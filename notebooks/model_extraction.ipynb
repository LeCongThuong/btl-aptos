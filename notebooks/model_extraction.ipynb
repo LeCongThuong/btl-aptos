{
 "cells": [
  {
   "cell_type": "code",
   "execution_count": 2,
   "id": "e18bc311-e93b-430f-bff5-488133ae123e",
   "metadata": {},
   "outputs": [],
   "source": [
    "import torch\n",
    "import timm\n",
    "import torch.nn as nn\n",
    "import torch.nn.functional as F"
   ]
  },
  {
   "cell_type": "code",
   "execution_count": 6,
   "id": "c3a33c33-921a-4f1c-90b1-89061e501460",
   "metadata": {},
   "outputs": [],
   "source": [
    "NUM_FINETUNE_CLASSES = 1"
   ]
  },
  {
   "cell_type": "code",
   "execution_count": 7,
   "id": "49b9e0a2-3d9b-44a1-91bc-55810e87d8b1",
   "metadata": {},
   "outputs": [],
   "source": [
    "model = timm.create_model('inception_resnet_v2', pretrained=True, num_classes=NUM_FINETUNE_CLASSES)"
   ]
  },
  {
   "cell_type": "code",
   "execution_count": 9,
   "id": "4094acb0-642c-4156-a022-64f46556f301",
   "metadata": {},
   "outputs": [],
   "source": [
    "class GeM(nn.Module):\n",
    "    def __init__(self, p=3, eps=1e-6):\n",
    "        super(GeM,self).__init__()\n",
    "        self.p = nn.Parameter(torch.ones(1)*p)\n",
    "        self.eps = eps\n",
    "\n",
    "    def forward(self, x):\n",
    "        return self.gem(x, p=self.p, eps=self.eps)\n",
    "        \n",
    "    def gem(self, x, p=3, eps=1e-6):\n",
    "        return F.avg_pool2d(x.clamp(min=eps).pow(p), (x.size(-2), x.size(-1))).pow(1./p)\n",
    "        \n",
    "    def __repr__(self):\n",
    "        return self.__class__.__name__ + '(' + 'p=' + '{:.4f}'.format(self.p.data.tolist()[0]) + ', ' + 'eps=' + str(self.eps) + ')'"
   ]
  },
  {
   "cell_type": "code",
   "execution_count": 7,
   "id": "af849bc4-0024-433d-8140-46dcca715489",
   "metadata": {},
   "outputs": [],
   "source": [
    "img = torch.ones((1, 3, 224, 224))"
   ]
  },
  {
   "cell_type": "code",
   "execution_count": 10,
   "id": "ec746c51-b922-49d2-9bed-49047669511b",
   "metadata": {},
   "outputs": [],
   "source": [
    "model.global_pool = GeM()"
   ]
  },
  {
   "cell_type": "code",
   "execution_count": 8,
   "id": "a5d4c56b-47f0-4c49-9661-aed0e1bb7d4c",
   "metadata": {},
   "outputs": [],
   "source": [
    "feature_output = model.forward_features(img)"
   ]
  },
  {
   "cell_type": "code",
   "execution_count": 23,
   "id": "c167ecf3-252f-4496-923c-ae988ef73a7c",
   "metadata": {},
   "outputs": [
    {
     "data": {
      "text/plain": [
       "1536"
      ]
     },
     "execution_count": 23,
     "metadata": {},
     "output_type": "execute_result"
    }
   ],
   "source": [
    "model.classif.in_features"
   ]
  },
  {
   "cell_type": "code",
   "execution_count": 9,
   "id": "46b46b37-0cb5-493a-8dcc-98e49f7cc612",
   "metadata": {},
   "outputs": [
    {
     "data": {
      "text/plain": [
       "torch.Size([1, 1536, 5, 5])"
      ]
     },
     "execution_count": 9,
     "metadata": {},
     "output_type": "execute_result"
    }
   ],
   "source": [
    "feature_output.shape"
   ]
  },
  {
   "cell_type": "code",
   "execution_count": 14,
   "id": "2d6bfa08-c600-40ea-a6ae-89345e5881c4",
   "metadata": {},
   "outputs": [],
   "source": [
    "gem_pooling = GeM()"
   ]
  },
  {
   "cell_type": "code",
   "execution_count": 17,
   "id": "ccca09a2-986d-44d7-93e8-20f5bee4b91b",
   "metadata": {},
   "outputs": [],
   "source": [
    "out = gem_pooling(feature_output)"
   ]
  },
  {
   "cell_type": "code",
   "execution_count": 18,
   "id": "b046cbb9-1f1a-4335-95de-5a7f2f99fc12",
   "metadata": {},
   "outputs": [
    {
     "data": {
      "text/plain": [
       "torch.Size([1, 1536, 1, 1])"
      ]
     },
     "execution_count": 18,
     "metadata": {},
     "output_type": "execute_result"
    }
   ],
   "source": [
    "out.shape"
   ]
  }
 ],
 "metadata": {
  "kernelspec": {
   "display_name": "Python 3 (ipykernel)",
   "language": "python",
   "name": "python3"
  },
  "language_info": {
   "codemirror_mode": {
    "name": "ipython",
    "version": 3
   },
   "file_extension": ".py",
   "mimetype": "text/x-python",
   "name": "python",
   "nbconvert_exporter": "python",
   "pygments_lexer": "ipython3",
   "version": "3.7.13"
  }
 },
 "nbformat": 4,
 "nbformat_minor": 5
}
